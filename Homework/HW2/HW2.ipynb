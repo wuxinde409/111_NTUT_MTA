{
 "cells": [
  {
   "cell_type": "markdown",
   "metadata": {},
   "source": [
    "# 多媒體技術與應用 Homework 2\n",
    "\n",
    "Author: 109590031 資工二 黃漢軒"
   ]
  },
  {
   "cell_type": "markdown",
   "metadata": {},
   "source": [
    "## Part 1. 前置作業"
   ]
  },
  {
   "cell_type": "markdown",
   "metadata": {},
   "source": [
    "### Step 1. 安裝相關套件"
   ]
  },
  {
   "cell_type": "code",
   "execution_count": 301,
   "metadata": {},
   "outputs": [],
   "source": [
    "! pip3 install numpy --quiet\n",
    "! pip3 install sklearn --quiet"
   ]
  },
  {
   "cell_type": "markdown",
   "metadata": {},
   "source": [
    "### Step 2. 匯入相關套件"
   ]
  },
  {
   "cell_type": "code",
   "execution_count": 302,
   "metadata": {},
   "outputs": [],
   "source": [
    "import numpy as np\n",
    "from sklearn.model_selection import train_test_split"
   ]
  },
  {
   "cell_type": "markdown",
   "metadata": {},
   "source": [
    "### Step 3. 讀取檔案並切割資料"
   ]
  },
  {
   "cell_type": "code",
   "execution_count": 303,
   "metadata": {},
   "outputs": [],
   "source": [
    "# 預測資料\n",
    "data = np.array([])\n",
    "# 預測標籤\n",
    "label = None\n",
    "\n",
    "# 開啟資料特徵值檔案\n",
    "with open(\"iris_x.txt\") as f:\n",
    "    list = []\n",
    "    for i in range(150):\n",
    "        list.append(np.array(f.readline().split(), dtype=float))\n",
    "    data = np.array(list)\n",
    "\n",
    "# 開啟資料標籤檔案\n",
    "with open(\"iris_y.txt\") as f:\n",
    "    label = np.array(f.read().split(), dtype=int)\n",
    "\n",
    "# 切割資料，指定 random_state = 20220413\n",
    "x_train, x_test, y_train, y_test = train_test_split(data, label, random_state=20220413)"
   ]
  },
  {
   "cell_type": "markdown",
   "metadata": {},
   "source": [
    "## Part 2. 訓練 Multiple regression"
   ]
  },
  {
   "cell_type": "markdown",
   "metadata": {},
   "source": [
    "### Step 1. 匯入相關套件"
   ]
  },
  {
   "cell_type": "code",
   "execution_count": 304,
   "metadata": {},
   "outputs": [],
   "source": [
    "import numpy as np\n",
    "from sklearn import *\n",
    "from sklearn.linear_model import LinearRegression\n",
    "from sklearn.model_selection import train_test_split\n",
    "from sklearn.metrics import mean_squared_error"
   ]
  },
  {
   "cell_type": "markdown",
   "metadata": {},
   "source": [
    "### Step 2. 使用 Linear Regression 進行擬合，並輸出 MSE 結果"
   ]
  },
  {
   "cell_type": "code",
   "execution_count": 305,
   "metadata": {},
   "outputs": [
    {
     "name": "stdout",
     "output_type": "stream",
     "text": [
      "MSE = 0.03805233566090977\n"
     ]
    }
   ],
   "source": [
    "# 使用線性迴歸類別\n",
    "clt = LinearRegression()\n",
    "\n",
    "# 擬合\n",
    "clt.fit(x_train, y_train)\n",
    "\n",
    "# 取得 MSE 值\n",
    "mse = mean_squared_error(y_test, clt.predict(x_test))\n",
    "\n",
    "# 印出結果\n",
    "print(\"MSE =\", mse)"
   ]
  },
  {
   "cell_type": "markdown",
   "metadata": {},
   "source": [
    "## Part 3. 製作 Quadratic Discriminant Analysis 進行分析與評估"
   ]
  },
  {
   "cell_type": "markdown",
   "metadata": {},
   "source": [
    "### Step 1. 匯入相關套件"
   ]
  },
  {
   "cell_type": "code",
   "execution_count": 306,
   "metadata": {},
   "outputs": [],
   "source": [
    "import numpy as np\n",
    "import numpy.linalg as nplg\n",
    "import math"
   ]
  },
  {
   "cell_type": "markdown",
   "metadata": {},
   "source": [
    "### Step 2. 撰寫 Quadratic Discriminant Analysis 類別"
   ]
  },
  {
   "cell_type": "code",
   "execution_count": 307,
   "metadata": {},
   "outputs": [],
   "source": [
    "# 撰寫 QuadraticDiscriminantAnalysis\n",
    "class _QuadraticDiscriminantAnalysis():\n",
    "    # 建構子\n",
    "    def __init__(self):\n",
    "        self.mu = np.array([])\n",
    "        self.cov = np.array([])\n",
    "    # 擬合函式\n",
    "    def fit(self, data, label):\n",
    "        mu = []\n",
    "        cov = []\n",
    "        for i in range(np.max(label) + 1):\n",
    "            pos = np.where(label == i)[0]\n",
    "            tmp_data = data[pos,:]\n",
    "            tmp_cov = np.cov(np.transpose(tmp_data))\n",
    "            tmp_mu = np.mean(tmp_data,axis=0)\n",
    "            mu.append(tmp_mu)\n",
    "            cov.append(tmp_cov)\n",
    "        self.mu = np.array(mu)\n",
    "        self.cov = np.array(cov)\n",
    "    # 預測函式\n",
    "    def predict(self, tests):\n",
    "        result = []\n",
    "        for test in tests:\n",
    "            list = []\n",
    "            for i in range(len(self.mu)):\n",
    "                # 使用 Quadratic discriminant classifier 的式子\n",
    "                value = - 0.5 * math.log(nplg.norm(self.cov[i])) - 0.5 * np.dot(np.dot(np.transpose(test - self.mu[i]), nplg.inv(self.cov[i])), (test - self.mu[i]))\n",
    "                list.append(value)\n",
    "            values = np.array(list)\n",
    "            result.append(np.argmax(values))\n",
    "        return result"
   ]
  },
  {
   "cell_type": "markdown",
   "metadata": {},
   "source": [
    "### Step 3. 使用撰寫的類別，並進行資料擬合"
   ]
  },
  {
   "cell_type": "code",
   "execution_count": 308,
   "metadata": {},
   "outputs": [],
   "source": [
    "# 使用自己寫的 Quadratic Discriminant Analysis 類別\n",
    "qda = _QuadraticDiscriminantAnalysis()\n",
    "\n",
    "# 擬合\n",
    "qda.fit(x_train, y_train)"
   ]
  },
  {
   "cell_type": "markdown",
   "metadata": {},
   "source": [
    "### Step 4. 撰寫準確度測量與 ConfusionMatrix 函式"
   ]
  },
  {
   "cell_type": "code",
   "execution_count": 309,
   "metadata": {},
   "outputs": [],
   "source": [
    "# 準確率函數，回傳 float 準確率\n",
    "def getAccurate(y_true, y_pred) -> float:\n",
    "    correct = 0\n",
    "    for i in range(len(y_pred)):\n",
    "        if(y_pred[i] == y_true[i]):\n",
    "            correct += 1\n",
    "    return correct / len(y_true)\n",
    "\n",
    "# Confusion matrix，回傳 np.array\n",
    "def getConfusionMatrix(y_true, y_pred) -> np.array:\n",
    "    n = len(np.unique(y_true))\n",
    "    result = np.empty((n, n), dtype=np.uint)\n",
    "    result.fill(0)\n",
    "    for i in range(len(y_pred)):\n",
    "        result[y_true[i]][y_pred[i]] += 1\n",
    "    return result"
   ]
  },
  {
   "cell_type": "markdown",
   "metadata": {},
   "source": [
    "### Step 5. 預測並呈現結果"
   ]
  },
  {
   "cell_type": "code",
   "execution_count": 310,
   "metadata": {},
   "outputs": [
    {
     "name": "stdout",
     "output_type": "stream",
     "text": [
      "Accurate = 100.0000%\n",
      "Confusion Matrix: \n",
      "[[10  0  0]\n",
      " [ 0 13  0]\n",
      " [ 0  0 15]]\n"
     ]
    }
   ],
   "source": [
    "# 預測\n",
    "predicted = qda.predict(x_test)\n",
    "\n",
    "# 輸出結果\n",
    "print(\"Accurate = %.4f%%\" % (getAccurate(y_test, predicted) * 100))\n",
    "print(f\"Confusion Matrix: \\n{getConfusionMatrix(y_test, predicted)}\")"
   ]
  },
  {
   "cell_type": "markdown",
   "metadata": {},
   "source": [
    "## Part 4. 使用 scikit-learn 的 Quadratic Discriminant Analysis 進行分析與評估"
   ]
  },
  {
   "cell_type": "markdown",
   "metadata": {},
   "source": [
    "### Step 1. 匯入相關套件"
   ]
  },
  {
   "cell_type": "code",
   "execution_count": 311,
   "metadata": {},
   "outputs": [],
   "source": [
    "import numpy as np\n",
    "from sklearn import *\n",
    "from sklearn.discriminant_analysis import QuadraticDiscriminantAnalysis\n",
    "from sklearn.metrics import confusion_matrix"
   ]
  },
  {
   "cell_type": "markdown",
   "metadata": {},
   "source": [
    "### Step 2. 使用 sklearn 的類別並進行擬合、預測與輸出結果"
   ]
  },
  {
   "cell_type": "code",
   "execution_count": 312,
   "metadata": {},
   "outputs": [
    {
     "name": "stdout",
     "output_type": "stream",
     "text": [
      "Accurate = 100.0000%\n",
      "Confusion Matrix: \n",
      "[[10  0  0]\n",
      " [ 0 13  0]\n",
      " [ 0  0 15]]\n"
     ]
    }
   ],
   "source": [
    "# 使用 sklearn 的 QuadraticDiscriminantAnalysis 類別\n",
    "qda = QuadraticDiscriminantAnalysis()\n",
    "\n",
    "# 擬合\n",
    "qda.fit(x_train, y_train)\n",
    "\n",
    "# 預判\n",
    "predicted = qda.predict(x_test)\n",
    "\n",
    "# 得到準確率\n",
    "accuracy = qda.score(x_test, y_test)\n",
    "\n",
    "# 輸出結果\n",
    "print(\"Accurate = %.4f%%\" % (float(accuracy) * 100))\n",
    "print(f\"Confusion Matrix: \\n{confusion_matrix(y_test, predicted)}\")"
   ]
  }
 ],
 "metadata": {
  "interpreter": {
   "hash": "c03e13211c279fb028d5e348fd49365e69398bc3020f60aadcd5b216694de4d7"
  },
  "kernelspec": {
   "display_name": "Python 3.9.12 64-bit (windows store)",
   "language": "python",
   "name": "python3"
  },
  "language_info": {
   "codemirror_mode": {
    "name": "ipython",
    "version": 3
   },
   "file_extension": ".py",
   "mimetype": "text/x-python",
   "name": "python",
   "nbconvert_exporter": "python",
   "pygments_lexer": "ipython3",
   "version": "3.9.12"
  },
  "orig_nbformat": 4
 },
 "nbformat": 4,
 "nbformat_minor": 2
}
