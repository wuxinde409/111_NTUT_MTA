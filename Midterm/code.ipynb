{
 "cells": [
  {
   "cell_type": "markdown",
   "metadata": {},
   "source": [
    "# 手寫數字辨識程式研究 by Xuan\n",
    "\n",
    "使用資料集：MNIST"
   ]
  },
  {
   "cell_type": "markdown",
   "metadata": {},
   "source": [
    "## Step 1 引入套件\n",
    "\n",
    "這些是需要引入的套件，你可以透過以下的指令來載這些東西。"
   ]
  },
  {
   "cell_type": "code",
   "execution_count": 21,
   "metadata": {
    "vscode": {
     "languageId": "bat"
    }
   },
   "outputs": [
    {
     "name": "stdout",
     "output_type": "stream",
     "text": [
      "Requirement already satisfied: opencv-python in c:\\users\\sigtu\\appdata\\local\\packages\\pythonsoftwarefoundation.python.3.9_qbz5n2kfra8p0\\localcache\\local-packages\\python39\\site-packages (4.5.5.64)\n",
      "Requirement already satisfied: numpy>=1.19.3 in c:\\users\\sigtu\\appdata\\local\\packages\\pythonsoftwarefoundation.python.3.9_qbz5n2kfra8p0\\localcache\\local-packages\\python39\\site-packages (from opencv-python) (1.21.0)\n",
      "Requirement already satisfied: matplotlib in c:\\users\\sigtu\\appdata\\local\\packages\\pythonsoftwarefoundation.python.3.9_qbz5n2kfra8p0\\localcache\\local-packages\\python39\\site-packages (3.5.1)\n",
      "Requirement already satisfied: packaging>=20.0 in c:\\users\\sigtu\\appdata\\local\\packages\\pythonsoftwarefoundation.python.3.9_qbz5n2kfra8p0\\localcache\\local-packages\\python39\\site-packages (from matplotlib) (21.3)\n",
      "Requirement already satisfied: numpy>=1.17 in c:\\users\\sigtu\\appdata\\local\\packages\\pythonsoftwarefoundation.python.3.9_qbz5n2kfra8p0\\localcache\\local-packages\\python39\\site-packages (from matplotlib) (1.21.0)\n",
      "Requirement already satisfied: cycler>=0.10 in c:\\users\\sigtu\\appdata\\local\\packages\\pythonsoftwarefoundation.python.3.9_qbz5n2kfra8p0\\localcache\\local-packages\\python39\\site-packages (from matplotlib) (0.11.0)\n",
      "Requirement already satisfied: kiwisolver>=1.0.1 in c:\\users\\sigtu\\appdata\\local\\packages\\pythonsoftwarefoundation.python.3.9_qbz5n2kfra8p0\\localcache\\local-packages\\python39\\site-packages (from matplotlib) (1.3.2)\n",
      "Requirement already satisfied: pyparsing>=2.2.1 in c:\\users\\sigtu\\appdata\\local\\packages\\pythonsoftwarefoundation.python.3.9_qbz5n2kfra8p0\\localcache\\local-packages\\python39\\site-packages (from matplotlib) (3.0.7)\n",
      "Requirement already satisfied: fonttools>=4.22.0 in c:\\users\\sigtu\\appdata\\local\\packages\\pythonsoftwarefoundation.python.3.9_qbz5n2kfra8p0\\localcache\\local-packages\\python39\\site-packages (from matplotlib) (4.30.0)\n",
      "Requirement already satisfied: pillow>=6.2.0 in c:\\users\\sigtu\\appdata\\local\\packages\\pythonsoftwarefoundation.python.3.9_qbz5n2kfra8p0\\localcache\\local-packages\\python39\\site-packages (from matplotlib) (9.0.1)\n",
      "Requirement already satisfied: python-dateutil>=2.7 in c:\\users\\sigtu\\appdata\\local\\packages\\pythonsoftwarefoundation.python.3.9_qbz5n2kfra8p0\\localcache\\local-packages\\python39\\site-packages (from matplotlib) (2.8.2)\n",
      "Requirement already satisfied: six>=1.5 in c:\\users\\sigtu\\appdata\\local\\packages\\pythonsoftwarefoundation.python.3.9_qbz5n2kfra8p0\\localcache\\local-packages\\python39\\site-packages (from python-dateutil>=2.7->matplotlib) (1.16.0)\n",
      "Requirement already satisfied: numpy in c:\\users\\sigtu\\appdata\\local\\packages\\pythonsoftwarefoundation.python.3.9_qbz5n2kfra8p0\\localcache\\local-packages\\python39\\site-packages (1.21.0)\n",
      "Requirement already satisfied: sklearn in c:\\users\\sigtu\\appdata\\local\\packages\\pythonsoftwarefoundation.python.3.9_qbz5n2kfra8p0\\localcache\\local-packages\\python39\\site-packages (0.0)\n",
      "Requirement already satisfied: scikit-learn in c:\\users\\sigtu\\appdata\\local\\packages\\pythonsoftwarefoundation.python.3.9_qbz5n2kfra8p0\\localcache\\local-packages\\python39\\site-packages (from sklearn) (1.0.2)\n",
      "Requirement already satisfied: scipy>=1.1.0 in c:\\users\\sigtu\\appdata\\local\\packages\\pythonsoftwarefoundation.python.3.9_qbz5n2kfra8p0\\localcache\\local-packages\\python39\\site-packages (from scikit-learn->sklearn) (1.8.0)\n",
      "Requirement already satisfied: threadpoolctl>=2.0.0 in c:\\users\\sigtu\\appdata\\local\\packages\\pythonsoftwarefoundation.python.3.9_qbz5n2kfra8p0\\localcache\\local-packages\\python39\\site-packages (from scikit-learn->sklearn) (3.1.0)\n",
      "Requirement already satisfied: joblib>=0.11 in c:\\users\\sigtu\\appdata\\local\\packages\\pythonsoftwarefoundation.python.3.9_qbz5n2kfra8p0\\localcache\\local-packages\\python39\\site-packages (from scikit-learn->sklearn) (1.1.0)\n",
      "Requirement already satisfied: numpy>=1.14.6 in c:\\users\\sigtu\\appdata\\local\\packages\\pythonsoftwarefoundation.python.3.9_qbz5n2kfra8p0\\localcache\\local-packages\\python39\\site-packages (from scikit-learn->sklearn) (1.21.0)\n"
     ]
    }
   ],
   "source": [
    "! pip install opencv-python\n",
    "! pip install matplotlib\n",
    "! pip install numpy\n",
    "! pip install sklearn"
   ]
  },
  {
   "cell_type": "markdown",
   "metadata": {},
   "source": [
    "載入完之後，匯入這些套件"
   ]
  },
  {
   "cell_type": "code",
   "execution_count": 22,
   "metadata": {},
   "outputs": [],
   "source": [
    "import cv2\n",
    "import matplotlib.pyplot as plt\n",
    "import numpy as np\n",
    "from sklearn import metrics\n",
    "from sklearn.neighbors import KNeighborsClassifier\n",
    "from sklearn.model_selection import train_test_split"
   ]
  },
  {
   "cell_type": "markdown",
   "metadata": {},
   "source": [
    "## Step 2 讀入必要檔案\n",
    "\n",
    "接著我們會需要讀入必要的檔案，分別是 label 與 image\n",
    "\n",
    "image 的部分會從影片中擷取圖檔\n",
    "\n",
    "label 的部分則是影片中數字按照順序出現的文字檔。"
   ]
  },
  {
   "cell_type": "markdown",
   "metadata": {},
   "source": [
    "### 讀入 label\n",
    "\n",
    "很簡單，只需要 loadtext 即可。"
   ]
  },
  {
   "cell_type": "code",
   "execution_count": 23,
   "metadata": {},
   "outputs": [],
   "source": [
    "labels = np.uint8(np.loadtxt(\"label.txt\"))"
   ]
  },
  {
   "cell_type": "markdown",
   "metadata": {},
   "source": [
    "### 讀入 image\n",
    "\n",
    "我們需要從影片中讀入，所以我們會需要用到 `cv2.VideoCapture` 的東西。\n",
    "\n",
    "接著我們會一幀一幀讀入，直到 `success = False` 時停止，代表沒有幀可讀入了。"
   ]
  },
  {
   "cell_type": "code",
   "execution_count": 24,
   "metadata": {},
   "outputs": [],
   "source": [
    "# 讀入 test_dataset.avi\n",
    "vidcap = cv2.VideoCapture(\"test_dataset.avi\")\n",
    "\n",
    "success = True\n",
    "\n",
    "# 存放幀的 list\n",
    "video_frame = []\n",
    "\n",
    "while success:\n",
    "    # 讀入幀\n",
    "    success, image = vidcap.read()\n",
    "\n",
    "    # 確認還有沒有幀\n",
    "    if not success:\n",
    "        break\n",
    "\n",
    "    # 將影像由 RGB 轉成 GRAY（這樣只會保留明亮度，所以陣列只有二維，RGB 會出現三維不好處理）\n",
    "    image = cv2.cvtColor(image, cv2.COLOR_RGB2GRAY)\n",
    "\n",
    "    # 加到 list 裡面\n",
    "    video_frame.append(image)"
   ]
  },
  {
   "cell_type": "markdown",
   "metadata": {},
   "source": [
    "## Step 3 轉換資料\n",
    "\n",
    "在 `scikit-learn` 中，我們在把圖入讀進去模型，給模型做使用時，\n",
    "\n",
    "需要將圖片從多張二維的 `(28, 28)` 轉成 `(圖片張數, -1)`，因此我們用 `numpy` 來做轉換。 "
   ]
  },
  {
   "cell_type": "code",
   "execution_count": 25,
   "metadata": {},
   "outputs": [],
   "source": [
    "data = np.array(video_frame).reshape((len(video_frame), -1))"
   ]
  },
  {
   "cell_type": "markdown",
   "metadata": {},
   "source": [
    "我們可以簡單的把資料以及預期結果呈現出來。\n",
    "\n",
    "除此之外，我將它存成了圖片，以利於使用一些不支援 `matplotlib` `imshow` 的 `IDE` 可以看到。"
   ]
  },
  {
   "cell_type": "code",
   "execution_count": 26,
   "metadata": {},
   "outputs": [
    {
     "data": {
      "image/png": "[encoded data removed]",
      "text/plain": [
       "<Figure size 720x216 with 4 Axes>"
      ]
     },
     "metadata": {
      "needs_background": "light"
     },
     "output_type": "display_data"
    }
   ],
   "source": [
    "# 創建一個 plot 來放我們的預期圖片\n",
    "_, axes = plt.subplots(nrows=1, ncols=4, figsize=(10, 3))\n",
    "\n",
    "# 開始遍歷 plot, data, label\n",
    "for ax, image, label in zip(axes, data, labels):\n",
    "\n",
    "    # 關閉 x 軸線（不需要 x 軸線）\n",
    "    ax.set_axis_off()\n",
    "\n",
    "    # 將圖片從剛剛轉換的資料，轉回來二維的圖片\n",
    "    image = image.reshape(28, 28)\n",
    "\n",
    "    # 顯示圖片\n",
    "    ax.imshow(image, cmap=plt.cm.gray_r, interpolation=\"nearest\")\n",
    "\n",
    "    # 設定標題\n",
    "    ax.set_title(\"Training: %i\" % label)\n",
    "    \n",
    "    # 存圖片\n",
    "    ax.get_figure().savefig(\"output1.png\")"
   ]
  },
  {
   "cell_type": "markdown",
   "metadata": {},
   "source": [
    "# Step 4 使用預測器"
   ]
  },
  {
   "cell_type": "markdown",
   "metadata": {},
   "source": [
    "在這邊，我們使用 `K-neighbor classifier` 分類器來進行分類。\n",
    "\n",
    "接著就能使用 `train_test_split` 來將資料集分割成訓練資料集與測試資料集。\n",
    "\n",
    "再使用 `fit` 來進行訓練，使用 `predict` 來進行預測。"
   ]
  },
  {
   "cell_type": "code",
   "execution_count": 31,
   "metadata": {},
   "outputs": [],
   "source": [
    "# 創建一個 K-neighbor classifier 分類器\n",
    "clf = KNeighborsClassifier()\n",
    "\n",
    "# 將資料及分割成 1% 的測試資料與 99% 的訓練資料\n",
    "x_train, x_test, y_train, y_test = train_test_split(data, labels, test_size=0.5)\n",
    "\n",
    "# 訓練\n",
    "clf.fit(x_train, y_train)\n",
    "\n",
    "# 預測\n",
    "predicted = clf.predict(x_test)"
   ]
  },
  {
   "cell_type": "markdown",
   "metadata": {},
   "source": [
    "接下來我們可以把預測結果利用 `matplotlib` 來呈現結果。\n",
    "\n",
    "我將它存成了圖片，以利於使用一些不支援 `matplotlib` `imshow` 的 `IDE` 可以看到。"
   ]
  },
  {
   "cell_type": "code",
   "execution_count": 32,
   "metadata": {},
   "outputs": [
    {
     "data": {
      "image/png": "[encoded data removed]",
      "text/plain": [
       "<Figure size 576x576 with 16 Axes>"
      ]
     },
     "metadata": {
      "needs_background": "light"
     },
     "output_type": "display_data"
    }
   ],
   "source": [
    "# 用來遍歷我們的預測資料\n",
    "index = 0\n",
    "\n",
    "# 創建一個 plot\n",
    "_, axes = plt.subplots(nrows=4, ncols=4, figsize=(8, 8))\n",
    "\n",
    "# 因為有四格，所以先從欄開始\n",
    "for axs in axes:\n",
    "    \n",
    "    # 再從列開始\n",
    "    for ax in axs:\n",
    "\n",
    "        # 不需要 x 軸\n",
    "        ax.set_axis_off()\n",
    "\n",
    "        # 把圖片轉回去 (28, 28) 的形式\n",
    "        sk_image = x_test[index].reshape(28, 28)\n",
    "\n",
    "        # 讀入預測結果\n",
    "        prediction = predicted[index]\n",
    "\n",
    "        # 顯示圖片\n",
    "        ax.imshow(sk_image, cmap=plt.cm.gray_r, interpolation=\"nearest\")\n",
    "        \n",
    "        # 設置標題\n",
    "        ax.set_title(f\"Prediction: {prediction}\")\n",
    "        \n",
    "        # 存成檔案\n",
    "        ax.get_figure().savefig(\"output2.png\")\n",
    "\n",
    "        # 繼續遍歷，所以 index += 1\n",
    "        index += 1"
   ]
  },
  {
   "cell_type": "markdown",
   "metadata": {},
   "source": [
    "## Step 5 印出結果\n",
    "\n",
    "我們可以用 `metrics.classification_report` 來印出我們的結果。"
   ]
  },
  {
   "cell_type": "code",
   "execution_count": 33,
   "metadata": {},
   "outputs": [
    {
     "name": "stdout",
     "output_type": "stream",
     "text": [
      "Classification report for classifier KNeighborsClassifier():\n",
      "              precision    recall  f1-score   support\n",
      "\n",
      "           0       0.98      0.99      0.99      2932\n",
      "           1       0.95      0.99      0.97      3371\n",
      "           2       0.98      0.95      0.96      2918\n",
      "           3       0.96      0.96      0.96      3106\n",
      "           4       0.97      0.96      0.97      2954\n",
      "           5       0.96      0.96      0.96      2731\n",
      "           6       0.98      0.99      0.98      2941\n",
      "           7       0.96      0.97      0.96      3165\n",
      "           8       0.99      0.92      0.95      2953\n",
      "           9       0.94      0.96      0.95      2929\n",
      "\n",
      "    accuracy                           0.97     30000\n",
      "   macro avg       0.97      0.96      0.97     30000\n",
      "weighted avg       0.97      0.97      0.97     30000\n",
      "\n",
      "\n"
     ]
    }
   ],
   "source": [
    "print(\n",
    "    f\"Classification report for classifier {clf}:\\n\"\n",
    "    f\"{metrics.classification_report(y_test, predicted)}\\n\"\n",
    ")"
   ]
  },
  {
   "cell_type": "markdown",
   "metadata": {},
   "source": [
    "另一種結果是 `Confusion matrix`，可以知道有幾個圖片被誤判了。\n",
    "\n",
    "可以使用 `metrics.ConfusionMatrixDisplay.from_predictions`，\n",
    "\n",
    "來列出這個 `Confusion matrix`。"
   ]
  },
  {
   "cell_type": "code",
   "execution_count": 34,
   "metadata": {},
   "outputs": [
    {
     "name": "stdout",
     "output_type": "stream",
     "text": [
      "Confusion matrix:\n",
      "[[2917    3    1    1    0    3    5    2    0    0]\n",
      " [   1 3349    7    1    2    0    0    8    1    2]\n",
      " [  25   36 2773   10    6    4    6   48    6    4]\n",
      " [   6   10   17 2988    1   32    4   21   15   12]\n",
      " [   2   32    2    0 2831    0   11    8    0   68]\n",
      " [  10    7    1   41    6 2612   31    2    8   13]\n",
      " [  10    7    0    0    4    7 2913    0    0    0]\n",
      " [   1   35    8    1   11    1    0 3070    1   37]\n",
      " [   9   45   18   43   23   49   13   11 2705   37]\n",
      " [   9    6    3   30   23    5    0   44    7 2802]]\n"
     ]
    },
    {
     "data": {
      "image/png": "[encoded data removed]",
      "text/plain": [
       "<Figure size 432x288 with 2 Axes>"
      ]
     },
     "metadata": {
      "needs_background": "light"
     },
     "output_type": "display_data"
    },
    {
     "data": {
      "text/plain": [
       "<Figure size 432x288 with 0 Axes>"
      ]
     },
     "metadata": {},
     "output_type": "display_data"
    }
   ],
   "source": [
    "disp = metrics.ConfusionMatrixDisplay.from_predictions(y_test, predicted)\n",
    "\n",
    "# 設置標題\n",
    "disp.figure_.suptitle(\"Confusion Matrix\")\n",
    "\n",
    "# 顯示出文字版的 confusion matrix\n",
    "print(f\"Confusion matrix:\\n{disp.confusion_matrix}\")\n",
    "\n",
    "# 顯示出圖片版的 confusion matrix\n",
    "plt.show()\n",
    "\n",
    "# 存成圖片\n",
    "plt.savefig(\"output3.png\")"
   ]
  }
 ],
 "metadata": {
  "interpreter": {
   "hash": "c03e13211c279fb028d5e348fd49365e69398bc3020f60aadcd5b216694de4d7"
  },
  "kernelspec": {
   "display_name": "Python 3.9.12 64-bit (windows store)",
   "language": "python",
   "name": "python3"
  },
  "language_info": {
   "codemirror_mode": {
    "name": "ipython",
    "version": 3
   },
   "file_extension": ".py",
   "mimetype": "text/x-python",
   "name": "python",
   "nbconvert_exporter": "python",
   "pygments_lexer": "ipython3",
   "version": "3.9.12"
  },
  "orig_nbformat": 4
 },
 "nbformat": 4,
 "nbformat_minor": 2
}
